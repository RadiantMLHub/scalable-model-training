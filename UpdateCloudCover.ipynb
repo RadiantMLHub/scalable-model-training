{
 "cells": [
  {
   "cell_type": "code",
   "execution_count": 178,
   "id": "3b6bbdf4-48f2-4fb7-a10b-c48ee54d04cf",
   "metadata": {},
   "outputs": [],
   "source": [
    "import pystac as ps\n",
    "import pystac.utils as ps_utils\n",
    "from pystac import Item, Collection, Catalog\n",
    "from pystac.item_collection import ItemCollection\n",
    "from pystac.extensions.eo import EOExtension\n",
    "import stackstac\n",
    "import dask\n",
    "from dask import delayed\n",
    "import rasterio as rio\n",
    "from rasterio.plot import show"
   ]
  },
  {
   "cell_type": "code",
   "execution_count": 119,
   "id": "a1acbcc4-70dd-43ad-8163-b7293177ea5d",
   "metadata": {},
   "outputs": [],
   "source": [
    "import json, os, sys, traceback"
   ]
  },
  {
   "cell_type": "code",
   "execution_count": 142,
   "id": "4aadb427-ed9e-4154-bcb1-90cd7b0819d9",
   "metadata": {},
   "outputs": [
    {
     "name": "stderr",
     "output_type": "stream",
     "text": [
      "/Users/kendallsmith/opt/anaconda3/envs/mlhub/lib/python3.9/site-packages/distributed/node.py:160: UserWarning: Port 8787 is already in use.\n",
      "Perhaps you already have a cluster running?\n",
      "Hosting the HTTP server on port 59107 instead\n",
      "  warnings.warn(\n"
     ]
    },
    {
     "data": {
      "text/html": [
       "<div>\n",
       "    <div style=\"width: 24px; height: 24px; background-color: #e1e1e1; border: 3px solid #9D9D9D; border-radius: 5px; position: absolute;\"> </div>\n",
       "    <div style=\"margin-left: 48px;\">\n",
       "        <h3 style=\"margin-bottom: 0px;\">Client</h3>\n",
       "        <p style=\"color: #9D9D9D; margin-bottom: 0px;\">Client-faa6bdb8-8380-11ec-8a6c-52879e68a5a1</p>\n",
       "        <table style=\"width: 100%; text-align: left;\">\n",
       "\n",
       "        <tr>\n",
       "        \n",
       "            <td style=\"text-align: left;\"><strong>Connection method:</strong> Cluster object</td>\n",
       "            <td style=\"text-align: left;\"><strong>Cluster type:</strong> distributed.LocalCluster</td>\n",
       "        \n",
       "        </tr>\n",
       "\n",
       "        \n",
       "            <tr>\n",
       "                <td style=\"text-align: left;\">\n",
       "                    <strong>Dashboard: </strong> <a href=\"http://127.0.0.1:59107/status\" target=\"_blank\">http://127.0.0.1:59107/status</a>\n",
       "                </td>\n",
       "                <td style=\"text-align: left;\"></td>\n",
       "            </tr>\n",
       "        \n",
       "\n",
       "        </table>\n",
       "\n",
       "        \n",
       "            <details>\n",
       "            <summary style=\"margin-bottom: 20px;\"><h3 style=\"display: inline;\">Cluster Info</h3></summary>\n",
       "            <div class=\"jp-RenderedHTMLCommon jp-RenderedHTML jp-mod-trusted jp-OutputArea-output\">\n",
       "    <div style=\"width: 24px; height: 24px; background-color: #e1e1e1; border: 3px solid #9D9D9D; border-radius: 5px; position: absolute;\">\n",
       "    </div>\n",
       "    <div style=\"margin-left: 48px;\">\n",
       "        <h3 style=\"margin-bottom: 0px; margin-top: 0px;\">LocalCluster</h3>\n",
       "        <p style=\"color: #9D9D9D; margin-bottom: 0px;\">58224881</p>\n",
       "        <table style=\"width: 100%; text-align: left;\">\n",
       "            <tr>\n",
       "                <td style=\"text-align: left;\">\n",
       "                    <strong>Dashboard:</strong> <a href=\"http://127.0.0.1:59107/status\" target=\"_blank\">http://127.0.0.1:59107/status</a>\n",
       "                </td>\n",
       "                <td style=\"text-align: left;\">\n",
       "                    <strong>Workers:</strong> 4\n",
       "                </td>\n",
       "            </tr>\n",
       "            <tr>\n",
       "                <td style=\"text-align: left;\">\n",
       "                    <strong>Total threads:</strong> 8\n",
       "                </td>\n",
       "                <td style=\"text-align: left;\">\n",
       "                    <strong>Total memory:</strong> 16.00 GiB\n",
       "                </td>\n",
       "            </tr>\n",
       "            \n",
       "            <tr>\n",
       "    <td style=\"text-align: left;\"><strong>Status:</strong> running</td>\n",
       "    <td style=\"text-align: left;\"><strong>Using processes:</strong> True</td>\n",
       "</tr>\n",
       "\n",
       "            \n",
       "        </table>\n",
       "\n",
       "        <details>\n",
       "            <summary style=\"margin-bottom: 20px;\">\n",
       "                <h3 style=\"display: inline;\">Scheduler Info</h3>\n",
       "            </summary>\n",
       "\n",
       "            <div style=\"\">\n",
       "    <div>\n",
       "        <div style=\"width: 24px; height: 24px; background-color: #FFF7E5; border: 3px solid #FF6132; border-radius: 5px; position: absolute;\"> </div>\n",
       "        <div style=\"margin-left: 48px;\">\n",
       "            <h3 style=\"margin-bottom: 0px;\">Scheduler</h3>\n",
       "            <p style=\"color: #9D9D9D; margin-bottom: 0px;\">Scheduler-7e6c4a64-5716-49ea-be5c-40f6a5d16bde</p>\n",
       "            <table style=\"width: 100%; text-align: left;\">\n",
       "                <tr>\n",
       "                    <td style=\"text-align: left;\">\n",
       "                        <strong>Comm:</strong> tcp://127.0.0.1:59108\n",
       "                    </td>\n",
       "                    <td style=\"text-align: left;\">\n",
       "                        <strong>Workers:</strong> 4\n",
       "                    </td>\n",
       "                </tr>\n",
       "                <tr>\n",
       "                    <td style=\"text-align: left;\">\n",
       "                        <strong>Dashboard:</strong> <a href=\"http://127.0.0.1:59107/status\" target=\"_blank\">http://127.0.0.1:59107/status</a>\n",
       "                    </td>\n",
       "                    <td style=\"text-align: left;\">\n",
       "                        <strong>Total threads:</strong> 8\n",
       "                    </td>\n",
       "                </tr>\n",
       "                <tr>\n",
       "                    <td style=\"text-align: left;\">\n",
       "                        <strong>Started:</strong> Just now\n",
       "                    </td>\n",
       "                    <td style=\"text-align: left;\">\n",
       "                        <strong>Total memory:</strong> 16.00 GiB\n",
       "                    </td>\n",
       "                </tr>\n",
       "            </table>\n",
       "        </div>\n",
       "    </div>\n",
       "\n",
       "    <details style=\"margin-left: 48px;\">\n",
       "        <summary style=\"margin-bottom: 20px;\">\n",
       "            <h3 style=\"display: inline;\">Workers</h3>\n",
       "        </summary>\n",
       "\n",
       "        \n",
       "        <div style=\"margin-bottom: 20px;\">\n",
       "            <div style=\"width: 24px; height: 24px; background-color: #DBF5FF; border: 3px solid #4CC9FF; border-radius: 5px; position: absolute;\"> </div>\n",
       "            <div style=\"margin-left: 48px;\">\n",
       "            <details>\n",
       "                <summary>\n",
       "                    <h4 style=\"margin-bottom: 0px; display: inline;\">Worker: 0</h4>\n",
       "                </summary>\n",
       "                <table style=\"width: 100%; text-align: left;\">\n",
       "                    <tr>\n",
       "                        <td style=\"text-align: left;\">\n",
       "                            <strong>Comm: </strong> tcp://127.0.0.1:59122\n",
       "                        </td>\n",
       "                        <td style=\"text-align: left;\">\n",
       "                            <strong>Total threads: </strong> 2\n",
       "                        </td>\n",
       "                    </tr>\n",
       "                    <tr>\n",
       "                        <td style=\"text-align: left;\">\n",
       "                            <strong>Dashboard: </strong> <a href=\"http://127.0.0.1:59125/status\" target=\"_blank\">http://127.0.0.1:59125/status</a>\n",
       "                        </td>\n",
       "                        <td style=\"text-align: left;\">\n",
       "                            <strong>Memory: </strong> 4.00 GiB\n",
       "                        </td>\n",
       "                    </tr>\n",
       "                    <tr>\n",
       "                        <td style=\"text-align: left;\">\n",
       "                            <strong>Nanny: </strong> tcp://127.0.0.1:59111\n",
       "                        </td>\n",
       "                        <td style=\"text-align: left;\"></td>\n",
       "                    </tr>\n",
       "                    <tr>\n",
       "                        <td colspan=\"2\" style=\"text-align: left;\">\n",
       "                            <strong>Local directory: </strong> /Users/kendallsmith/scalable-model-training/dask-worker-space/worker-7gctd85k\n",
       "                        </td>\n",
       "                    </tr>\n",
       "\n",
       "                    \n",
       "\n",
       "                    \n",
       "\n",
       "                </table>\n",
       "            </details>\n",
       "            </div>\n",
       "        </div>\n",
       "        \n",
       "        <div style=\"margin-bottom: 20px;\">\n",
       "            <div style=\"width: 24px; height: 24px; background-color: #DBF5FF; border: 3px solid #4CC9FF; border-radius: 5px; position: absolute;\"> </div>\n",
       "            <div style=\"margin-left: 48px;\">\n",
       "            <details>\n",
       "                <summary>\n",
       "                    <h4 style=\"margin-bottom: 0px; display: inline;\">Worker: 1</h4>\n",
       "                </summary>\n",
       "                <table style=\"width: 100%; text-align: left;\">\n",
       "                    <tr>\n",
       "                        <td style=\"text-align: left;\">\n",
       "                            <strong>Comm: </strong> tcp://127.0.0.1:59119\n",
       "                        </td>\n",
       "                        <td style=\"text-align: left;\">\n",
       "                            <strong>Total threads: </strong> 2\n",
       "                        </td>\n",
       "                    </tr>\n",
       "                    <tr>\n",
       "                        <td style=\"text-align: left;\">\n",
       "                            <strong>Dashboard: </strong> <a href=\"http://127.0.0.1:59124/status\" target=\"_blank\">http://127.0.0.1:59124/status</a>\n",
       "                        </td>\n",
       "                        <td style=\"text-align: left;\">\n",
       "                            <strong>Memory: </strong> 4.00 GiB\n",
       "                        </td>\n",
       "                    </tr>\n",
       "                    <tr>\n",
       "                        <td style=\"text-align: left;\">\n",
       "                            <strong>Nanny: </strong> tcp://127.0.0.1:59112\n",
       "                        </td>\n",
       "                        <td style=\"text-align: left;\"></td>\n",
       "                    </tr>\n",
       "                    <tr>\n",
       "                        <td colspan=\"2\" style=\"text-align: left;\">\n",
       "                            <strong>Local directory: </strong> /Users/kendallsmith/scalable-model-training/dask-worker-space/worker-kvjwd3ir\n",
       "                        </td>\n",
       "                    </tr>\n",
       "\n",
       "                    \n",
       "\n",
       "                    \n",
       "\n",
       "                </table>\n",
       "            </details>\n",
       "            </div>\n",
       "        </div>\n",
       "        \n",
       "        <div style=\"margin-bottom: 20px;\">\n",
       "            <div style=\"width: 24px; height: 24px; background-color: #DBF5FF; border: 3px solid #4CC9FF; border-radius: 5px; position: absolute;\"> </div>\n",
       "            <div style=\"margin-left: 48px;\">\n",
       "            <details>\n",
       "                <summary>\n",
       "                    <h4 style=\"margin-bottom: 0px; display: inline;\">Worker: 2</h4>\n",
       "                </summary>\n",
       "                <table style=\"width: 100%; text-align: left;\">\n",
       "                    <tr>\n",
       "                        <td style=\"text-align: left;\">\n",
       "                            <strong>Comm: </strong> tcp://127.0.0.1:59120\n",
       "                        </td>\n",
       "                        <td style=\"text-align: left;\">\n",
       "                            <strong>Total threads: </strong> 2\n",
       "                        </td>\n",
       "                    </tr>\n",
       "                    <tr>\n",
       "                        <td style=\"text-align: left;\">\n",
       "                            <strong>Dashboard: </strong> <a href=\"http://127.0.0.1:59123/status\" target=\"_blank\">http://127.0.0.1:59123/status</a>\n",
       "                        </td>\n",
       "                        <td style=\"text-align: left;\">\n",
       "                            <strong>Memory: </strong> 4.00 GiB\n",
       "                        </td>\n",
       "                    </tr>\n",
       "                    <tr>\n",
       "                        <td style=\"text-align: left;\">\n",
       "                            <strong>Nanny: </strong> tcp://127.0.0.1:59113\n",
       "                        </td>\n",
       "                        <td style=\"text-align: left;\"></td>\n",
       "                    </tr>\n",
       "                    <tr>\n",
       "                        <td colspan=\"2\" style=\"text-align: left;\">\n",
       "                            <strong>Local directory: </strong> /Users/kendallsmith/scalable-model-training/dask-worker-space/worker-_nh3_x_z\n",
       "                        </td>\n",
       "                    </tr>\n",
       "\n",
       "                    \n",
       "\n",
       "                    \n",
       "\n",
       "                </table>\n",
       "            </details>\n",
       "            </div>\n",
       "        </div>\n",
       "        \n",
       "        <div style=\"margin-bottom: 20px;\">\n",
       "            <div style=\"width: 24px; height: 24px; background-color: #DBF5FF; border: 3px solid #4CC9FF; border-radius: 5px; position: absolute;\"> </div>\n",
       "            <div style=\"margin-left: 48px;\">\n",
       "            <details>\n",
       "                <summary>\n",
       "                    <h4 style=\"margin-bottom: 0px; display: inline;\">Worker: 3</h4>\n",
       "                </summary>\n",
       "                <table style=\"width: 100%; text-align: left;\">\n",
       "                    <tr>\n",
       "                        <td style=\"text-align: left;\">\n",
       "                            <strong>Comm: </strong> tcp://127.0.0.1:59121\n",
       "                        </td>\n",
       "                        <td style=\"text-align: left;\">\n",
       "                            <strong>Total threads: </strong> 2\n",
       "                        </td>\n",
       "                    </tr>\n",
       "                    <tr>\n",
       "                        <td style=\"text-align: left;\">\n",
       "                            <strong>Dashboard: </strong> <a href=\"http://127.0.0.1:59126/status\" target=\"_blank\">http://127.0.0.1:59126/status</a>\n",
       "                        </td>\n",
       "                        <td style=\"text-align: left;\">\n",
       "                            <strong>Memory: </strong> 4.00 GiB\n",
       "                        </td>\n",
       "                    </tr>\n",
       "                    <tr>\n",
       "                        <td style=\"text-align: left;\">\n",
       "                            <strong>Nanny: </strong> tcp://127.0.0.1:59114\n",
       "                        </td>\n",
       "                        <td style=\"text-align: left;\"></td>\n",
       "                    </tr>\n",
       "                    <tr>\n",
       "                        <td colspan=\"2\" style=\"text-align: left;\">\n",
       "                            <strong>Local directory: </strong> /Users/kendallsmith/scalable-model-training/dask-worker-space/worker-nikgga4s\n",
       "                        </td>\n",
       "                    </tr>\n",
       "\n",
       "                    \n",
       "\n",
       "                    \n",
       "\n",
       "                </table>\n",
       "            </details>\n",
       "            </div>\n",
       "        </div>\n",
       "        \n",
       "\n",
       "    </details>\n",
       "</div>\n",
       "\n",
       "        </details>\n",
       "    </div>\n",
       "</div>\n",
       "            </details>\n",
       "        \n",
       "\n",
       "    </div>\n",
       "</div>"
      ],
      "text/plain": [
       "<Client: 'tcp://127.0.0.1:59108' processes=4 threads=8, memory=16.00 GiB>"
      ]
     },
     "execution_count": 142,
     "metadata": {},
     "output_type": "execute_result"
    }
   ],
   "source": [
    "from dask.distributed import Client\n",
    "\n",
    "client = Client(n_workers=4)\n",
    "client"
   ]
  },
  {
   "cell_type": "code",
   "execution_count": 99,
   "id": "84fa1ac1-b99c-4b82-83e1-75f1e45360fc",
   "metadata": {},
   "outputs": [],
   "source": [
    "MLHUB_BLOB_ROOT = 'https://radiantmlhub.blob.core.windows.net/stac/landcovernet-v1'\n",
    "MLHUB_SOURCE_ROOT = 'https://radiantmlhub.blob.core.windows.net/stac/landcovernet-v1/landcovernet_v1_source'\n",
    "MLHUB_LABELS_ROOT = 'https://radiantmlhub.blob.core.windows.net/stac/landcovernet-v1/landcovernet_v1_labels'\n",
    "CATALOG_NAME = 'landcovernet-v1'"
   ]
  },
  {
   "cell_type": "code",
   "execution_count": 79,
   "id": "b6599268-a0b7-4dae-88cf-a8d81efb02a8",
   "metadata": {},
   "outputs": [],
   "source": [
    "TMP_DIR = os.getcwd()"
   ]
  },
  {
   "cell_type": "code",
   "execution_count": 80,
   "id": "fcde9c39-8545-479f-9cbf-1a36c151b248",
   "metadata": {},
   "outputs": [],
   "source": [
    "source_collection_path = '/Users/kendallsmith/scalable-model-training/landcovernet-v1/landcovernet_v1_source/collection.json'\n",
    "labels_collection_path = '/Users/kendallsmith/scalable-model-training/landcovernet-v1/landcovernet_v1_labels/collection.json'"
   ]
  },
  {
   "cell_type": "code",
   "execution_count": 81,
   "id": "6dfd4ff2-268d-49f7-969e-e7c04f89e2d1",
   "metadata": {},
   "outputs": [],
   "source": [
    "# stac_io = ps.StacIO.default()\n",
    "# stac_io.read_stac_object(...)"
   ]
  },
  {
   "cell_type": "code",
   "execution_count": 129,
   "id": "5d203023-62d4-4e40-9fc8-e99388ca80a4",
   "metadata": {},
   "outputs": [],
   "source": [
    "lcn_labels_collection = Collection.from_file(labels_collection_path)"
   ]
  },
  {
   "cell_type": "code",
   "execution_count": 130,
   "id": "14489719-4f5b-418e-945c-963d87126745",
   "metadata": {},
   "outputs": [],
   "source": [
    "lcn_source_collection = Collection.from_file(source_collection_path)"
   ]
  },
  {
   "cell_type": "code",
   "execution_count": 126,
   "id": "3c039b41-9c46-4932-92d4-cdcebf025755",
   "metadata": {},
   "outputs": [],
   "source": [
    "def make_collection_links_relative(collection, absolute_root):\n",
    "    try:\n",
    "        if isinstance(collection, Collection):\n",
    "            for collection_link in collection.get_child_links():\n",
    "                collection_link.target = ps_utils.make_relative_href(\n",
    "                    collection_link.get_target_str(),\n",
    "                    start_href=absolute_root,\n",
    "                    start_is_dir=True\n",
    "                )\n",
    "    except Exception:\n",
    "        print(\"Exception making Collection child links relative to collection:\")\n",
    "        print(\"-\"*60)\n",
    "        traceback.print_exc(file=sys.stdout)\n",
    "        print(\"-\"*60)"
   ]
  },
  {
   "cell_type": "code",
   "execution_count": 127,
   "id": "3f3f5011-7c53-4789-860f-64822dbd678d",
   "metadata": {},
   "outputs": [],
   "source": [
    "# %%time\n",
    "def make_item_targets_relative(collection, absolute_root):\n",
    "    try:\n",
    "        if isinstance(collection, Collection):\n",
    "            for item_link in collection.get_item_links():\n",
    "                # First, get the Item's URL relative to the original catalog at the broken Azure URL\n",
    "                relative_to_root = ps_utils.make_relative_href(\n",
    "                    item_link.get_target_str(),\n",
    "                    start_href=absolute_root,\n",
    "                    start_is_dir=True\n",
    "                )\n",
    "                # print(relative_to_root)\n",
    "\n",
    "                # Next, get the absolute local path and then the path relative to the collection\n",
    "                absolute_path = ps_utils.make_absolute_href(\n",
    "                    relative_to_root,\n",
    "                    start_href=collection.get_root_link().href\n",
    "                )\n",
    "                # print(absolute_path)\n",
    "\n",
    "                relative_to_collection = ps_utils.make_relative_href(\n",
    "                    absolute_path,\n",
    "                    start_href=collection.get_self_href()\n",
    "                )\n",
    "                item_link.target = relative_to_collection\n",
    "            return collection\n",
    "        return None\n",
    "    except Exception:\n",
    "        print(\"Exception making Item target links relative to collection:\")\n",
    "        print(\"-\"*60)\n",
    "        traceback.print_exc(file=sys.stdout)\n",
    "        print(\"-\"*60)"
   ]
  },
  {
   "cell_type": "code",
   "execution_count": 128,
   "id": "7e5a7904-c46b-4f09-9080-3f6bbbb5f8d3",
   "metadata": {},
   "outputs": [],
   "source": [
    "def update_collection_links(collection, root):\n",
    "    make_collection_links_relative(collection, root)\n",
    "    make_item_targets_relative(collection, root)"
   ]
  },
  {
   "cell_type": "code",
   "execution_count": 131,
   "id": "bde26836-87e4-4c00-b8da-db080be9b353",
   "metadata": {},
   "outputs": [],
   "source": [
    "update_collection_links(lcn_labels_collection, MLHUB_LABELS_ROOT)\n",
    "update_collection_links(lcn_source_collection, MLHUB_SOURCE_ROOT)"
   ]
  },
  {
   "cell_type": "code",
   "execution_count": 132,
   "id": "510c2af0-b00f-4c3a-a927-28b0eb648901",
   "metadata": {
    "tags": []
   },
   "outputs": [
    {
     "data": {
      "text/plain": [
       "[<Link rel=root target=<Collection id=ref_landcovernet_v1_source>>,\n",
       " <Link rel=self target=/Users/kendallsmith/scalable-model-training/landcovernet-v1/landcovernet_v1_source/collection.json>,\n",
       " <Link rel=item target=./landcovernet_v1_source_28QDE_00_20180103/landcovernet_v1_source_28QDE_00_20180103.json>,\n",
       " <Link rel=item target=./landcovernet_v1_source_28QDE_00_20180108/landcovernet_v1_source_28QDE_00_20180108.json>,\n",
       " <Link rel=item target=./landcovernet_v1_source_28QDE_00_20180113/landcovernet_v1_source_28QDE_00_20180113.json>,\n",
       " <Link rel=item target=./landcovernet_v1_source_28QDE_00_20180118/landcovernet_v1_source_28QDE_00_20180118.json>,\n",
       " <Link rel=item target=./landcovernet_v1_source_28QDE_00_20180123/landcovernet_v1_source_28QDE_00_20180123.json>,\n",
       " <Link rel=item target=./landcovernet_v1_source_28QDE_00_20180128/landcovernet_v1_source_28QDE_00_20180128.json>,\n",
       " <Link rel=item target=./landcovernet_v1_source_28QDE_00_20180202/landcovernet_v1_source_28QDE_00_20180202.json>,\n",
       " <Link rel=item target=./landcovernet_v1_source_28QDE_00_20180207/landcovernet_v1_source_28QDE_00_20180207.json>]"
      ]
     },
     "execution_count": 132,
     "metadata": {},
     "output_type": "execute_result"
    }
   ],
   "source": [
    "lcn_source_collection.get_links()[0:10]"
   ]
  },
  {
   "cell_type": "code",
   "execution_count": 133,
   "id": "0468abbf-76ee-4742-bbbb-6f0112cde969",
   "metadata": {},
   "outputs": [
    {
     "data": {
      "text/plain": [
       "[<Link rel=root target=<Collection id=ref_landcovernet_v1_labels>>,\n",
       " <Link rel=self target=/Users/kendallsmith/scalable-model-training/landcovernet-v1/landcovernet_v1_labels/collection.json>,\n",
       " <Link rel=item target=./landcovernet_v1_labels_28QDE_00/landcovernet_v1_labels_28QDE_00.json>,\n",
       " <Link rel=item target=./landcovernet_v1_labels_28QDE_01/landcovernet_v1_labels_28QDE_01.json>,\n",
       " <Link rel=item target=./landcovernet_v1_labels_28QDE_02/landcovernet_v1_labels_28QDE_02.json>,\n",
       " <Link rel=item target=./landcovernet_v1_labels_28QDE_03/landcovernet_v1_labels_28QDE_03.json>,\n",
       " <Link rel=item target=./landcovernet_v1_labels_28QDE_04/landcovernet_v1_labels_28QDE_04.json>,\n",
       " <Link rel=item target=./landcovernet_v1_labels_28QDE_05/landcovernet_v1_labels_28QDE_05.json>,\n",
       " <Link rel=item target=./landcovernet_v1_labels_28QDE_06/landcovernet_v1_labels_28QDE_06.json>,\n",
       " <Link rel=item target=./landcovernet_v1_labels_28QDE_07/landcovernet_v1_labels_28QDE_07.json>]"
      ]
     },
     "execution_count": 133,
     "metadata": {},
     "output_type": "execute_result"
    }
   ],
   "source": [
    "lcn_labels_collection.get_links()[0:10]"
   ]
  },
  {
   "cell_type": "code",
   "execution_count": 134,
   "id": "a7964d3c-4c2f-4838-bff9-cab16a79cd00",
   "metadata": {},
   "outputs": [
    {
     "data": {
      "text/plain": [
       "<Item id=ref_landcovernet_v1_source_28QDE_00_20180103>"
      ]
     },
     "execution_count": 134,
     "metadata": {},
     "output_type": "execute_result"
    }
   ],
   "source": [
    "lcn_source_collection.get_item('ref_landcovernet_v1_source_28QDE_00_20180103')"
   ]
  },
  {
   "cell_type": "code",
   "execution_count": 136,
   "id": "e41a07ff-8f7c-46cd-944b-db96fd8fac85",
   "metadata": {},
   "outputs": [
    {
     "data": {
      "text/plain": [
       "<Item id=ref_landcovernet_v1_labels_28QDE_00>"
      ]
     },
     "execution_count": 136,
     "metadata": {},
     "output_type": "execute_result"
    }
   ],
   "source": [
    "lcn_labels_collection.get_item('ref_landcovernet_v1_labels_28QDE_00')"
   ]
  },
  {
   "cell_type": "code",
   "execution_count": 115,
   "id": "e29fc323-b0b2-49c3-8dbb-a8f4ae96b1de",
   "metadata": {
    "tags": []
   },
   "outputs": [
    {
     "data": {
      "text/plain": [
       "{'type': 'Feature',\n",
       " 'stac_version': '1.0.0',\n",
       " 'id': 'ref_landcovernet_v1_source_28QDE_00_20180103',\n",
       " 'properties': {'datetime': '2018-01-03T00:00:00Z',\n",
       "  'eo:bands': [{'name': 'B01',\n",
       "    'common_name': 'Coastal Aerosol',\n",
       "    'description': 'Coastal Aerosol'},\n",
       "   {'name': 'B02', 'common_name': 'Blue', 'description': 'Blue'},\n",
       "   {'name': 'B03', 'common_name': 'Green', 'description': 'Green'},\n",
       "   {'name': 'B04', 'common_name': 'Red', 'description': 'Red'},\n",
       "   {'name': 'B05',\n",
       "    'common_name': 'Vegetation Red Edge',\n",
       "    'description': 'Vegetation Red Edge (704.1nm)'},\n",
       "   {'name': 'B06',\n",
       "    'common_name': 'Vegetation Red Edge',\n",
       "    'description': 'Vegetation Red Edge (740.1nm)'},\n",
       "   {'name': 'B07',\n",
       "    'common_name': 'Vegetation Red Edge',\n",
       "    'description': 'Vegetation Red Edge (782.8nm)'},\n",
       "   {'name': 'B08', 'common_name': 'NIR', 'description': 'NIR'},\n",
       "   {'name': 'B8A', 'common_name': 'Narrow NIR', 'description': 'Narrow NIR'},\n",
       "   {'name': 'B09',\n",
       "    'common_name': 'Water Vapour',\n",
       "    'description': 'Water Vapour'},\n",
       "   {'name': 'B10',\n",
       "    'common_name': 'SWIR - Cirrus',\n",
       "    'description': 'SWIR - Cirrus'},\n",
       "   {'name': 'B11', 'common_name': 'SWIR', 'description': 'SWIR (1613.7nm)'},\n",
       "   {'name': 'B12', 'common_name': 'SWIR', 'description': 'SWIR (2202.4nm)'},\n",
       "   {'name': 'CLD', 'common_name': 'Cloud Mask', 'description': 'Cloud Mask'},\n",
       "   {'name': 'SCL',\n",
       "    'common_name': 'Scene Classification Layer',\n",
       "    'description': 'Scene Classification Layer'}],\n",
       "  'platform': 'Sentinel-2',\n",
       "  'instruments': ['MSI'],\n",
       "  'constellation': 'Sentinel-2',\n",
       "  'gsd': 10},\n",
       " 'geometry': {'type': 'Polygon',\n",
       "  'coordinates': [[[-15.870970678724662, 17.934727775534636],\n",
       "    [-15.871083915186572, 17.957864132687668],\n",
       "    [-15.84691009116051, 17.957971086770065],\n",
       "    [-15.846799996243936, 17.934834582722832],\n",
       "    [-15.870970678724662, 17.934727775534636]]]},\n",
       " 'links': [{'rel': 'collection',\n",
       "   'href': 'https://radiantmlhub.blob.core.windows.net/stac/landcovernet-v1/landcovernet_v1_source/collection.json'},\n",
       "  {'rel': <RelType.ROOT: 'root'>,\n",
       "   'href': '/Users/kendallsmith/scalable-model-training/landcovernet-v1/landcovernet_v1_source/collection.json',\n",
       "   'type': <MediaType.JSON: 'application/json'>},\n",
       "  {'rel': <RelType.SELF: 'self'>,\n",
       "   'href': '/Users/kendallsmith/scalable-model-training/landcovernet-v1/landcovernet_v1_source/landcovernet_v1_source_28QDE_00_20180103/landcovernet_v1_source_28QDE_00_20180103.json',\n",
       "   'type': <MediaType.JSON: 'application/json'>},\n",
       "  {'rel': <RelType.PARENT: 'parent'>,\n",
       "   'href': '/Users/kendallsmith/scalable-model-training/landcovernet-v1/landcovernet_v1_source/collection.json',\n",
       "   'type': <MediaType.JSON: 'application/json'>}],\n",
       " 'assets': {'B01': {'href': 'https://radiantearth.blob.core.windows.net/mlhub/landcovernet/data/v1.0/2018/28QDE/00/28QDE_00_20180103/28QDE_00_20180103_B01_10m.tif',\n",
       "   'type': 'image/tiff; application=geotiff; profile=cloud-optimized',\n",
       "   'title': '28QDE_00_20180103_B01_10m',\n",
       "   'eo:bands': [{'name': 'B01',\n",
       "     'common_name': 'Coastal Aerosol',\n",
       "     'description': 'Coastal Aerosol'}]},\n",
       "  'B02': {'href': 'https://radiantearth.blob.core.windows.net/mlhub/landcovernet/data/v1.0/2018/28QDE/00/28QDE_00_20180103/28QDE_00_20180103_B02_10m.tif',\n",
       "   'type': 'image/tiff; application=geotiff; profile=cloud-optimized',\n",
       "   'title': '28QDE_00_20180103_B02_10m',\n",
       "   'eo:bands': [{'name': 'B02',\n",
       "     'common_name': 'Blue',\n",
       "     'description': 'Blue'}]},\n",
       "  'B03': {'href': 'https://radiantearth.blob.core.windows.net/mlhub/landcovernet/data/v1.0/2018/28QDE/00/28QDE_00_20180103/28QDE_00_20180103_B03_10m.tif',\n",
       "   'type': 'image/tiff; application=geotiff; profile=cloud-optimized',\n",
       "   'title': '28QDE_00_20180103_B03_10m',\n",
       "   'eo:bands': [{'name': 'B03',\n",
       "     'common_name': 'Green',\n",
       "     'description': 'Green'}]},\n",
       "  'B04': {'href': 'https://radiantearth.blob.core.windows.net/mlhub/landcovernet/data/v1.0/2018/28QDE/00/28QDE_00_20180103/28QDE_00_20180103_B04_10m.tif',\n",
       "   'type': 'image/tiff; application=geotiff; profile=cloud-optimized',\n",
       "   'title': '28QDE_00_20180103_B04_10m',\n",
       "   'eo:bands': [{'name': 'B04', 'common_name': 'Red', 'description': 'Red'}]},\n",
       "  'B05': {'href': 'https://radiantearth.blob.core.windows.net/mlhub/landcovernet/data/v1.0/2018/28QDE/00/28QDE_00_20180103/28QDE_00_20180103_B05_10m.tif',\n",
       "   'type': 'image/tiff; application=geotiff; profile=cloud-optimized',\n",
       "   'title': '28QDE_00_20180103_B05_10m',\n",
       "   'eo:bands': [{'name': 'B05',\n",
       "     'common_name': 'Vegetation Red Edge',\n",
       "     'description': 'Vegetation Red Edge (704.1nm)'}]},\n",
       "  'B06': {'href': 'https://radiantearth.blob.core.windows.net/mlhub/landcovernet/data/v1.0/2018/28QDE/00/28QDE_00_20180103/28QDE_00_20180103_B06_10m.tif',\n",
       "   'type': 'image/tiff; application=geotiff; profile=cloud-optimized',\n",
       "   'title': '28QDE_00_20180103_B06_10m',\n",
       "   'eo:bands': [{'name': 'B06',\n",
       "     'common_name': 'Vegetation Red Edge',\n",
       "     'description': 'Vegetation Red Edge (740.1nm)'}]},\n",
       "  'B07': {'href': 'https://radiantearth.blob.core.windows.net/mlhub/landcovernet/data/v1.0/2018/28QDE/00/28QDE_00_20180103/28QDE_00_20180103_B07_10m.tif',\n",
       "   'type': 'image/tiff; application=geotiff; profile=cloud-optimized',\n",
       "   'title': '28QDE_00_20180103_B07_10m',\n",
       "   'eo:bands': [{'name': 'B07',\n",
       "     'common_name': 'Vegetation Red Edge',\n",
       "     'description': 'Vegetation Red Edge (782.8nm)'}]},\n",
       "  'B08': {'href': 'https://radiantearth.blob.core.windows.net/mlhub/landcovernet/data/v1.0/2018/28QDE/00/28QDE_00_20180103/28QDE_00_20180103_B08_10m.tif',\n",
       "   'type': 'image/tiff; application=geotiff; profile=cloud-optimized',\n",
       "   'title': '28QDE_00_20180103_B08_10m',\n",
       "   'eo:bands': [{'name': 'B08', 'common_name': 'NIR', 'description': 'NIR'}]},\n",
       "  'B8A': {'href': 'https://radiantearth.blob.core.windows.net/mlhub/landcovernet/data/v1.0/2018/28QDE/00/28QDE_00_20180103/28QDE_00_20180103_B8A_10m.tif',\n",
       "   'type': 'image/tiff; application=geotiff; profile=cloud-optimized',\n",
       "   'title': '28QDE_00_20180103_B8A_10m',\n",
       "   'eo:bands': [{'name': 'B8A',\n",
       "     'common_name': 'Narrow NIR',\n",
       "     'description': 'Narrow NIR'}]},\n",
       "  'B09': {'href': 'https://radiantearth.blob.core.windows.net/mlhub/landcovernet/data/v1.0/2018/28QDE/00/28QDE_00_20180103/28QDE_00_20180103_B09_10m.tif',\n",
       "   'type': 'image/tiff; application=geotiff; profile=cloud-optimized',\n",
       "   'title': '28QDE_00_20180103_B09_10m',\n",
       "   'eo:bands': [{'name': 'B09',\n",
       "     'common_name': 'Water Vapour',\n",
       "     'description': 'Water Vapour'}]},\n",
       "  'B11': {'href': 'https://radiantearth.blob.core.windows.net/mlhub/landcovernet/data/v1.0/2018/28QDE/00/28QDE_00_20180103/28QDE_00_20180103_B11_10m.tif',\n",
       "   'type': 'image/tiff; application=geotiff; profile=cloud-optimized',\n",
       "   'title': '28QDE_00_20180103_B11_10m',\n",
       "   'eo:bands': [{'name': 'B11',\n",
       "     'common_name': 'SWIR',\n",
       "     'description': 'SWIR (1613.7nm)'}]},\n",
       "  'B12': {'href': 'https://radiantearth.blob.core.windows.net/mlhub/landcovernet/data/v1.0/2018/28QDE/00/28QDE_00_20180103/28QDE_00_20180103_B12_10m.tif',\n",
       "   'type': 'image/tiff; application=geotiff; profile=cloud-optimized',\n",
       "   'title': '28QDE_00_20180103_B12_10m',\n",
       "   'eo:bands': [{'name': 'B12',\n",
       "     'common_name': 'SWIR',\n",
       "     'description': 'SWIR (2202.4nm)'}]},\n",
       "  'CLD': {'href': 'https://radiantearth.blob.core.windows.net/mlhub/landcovernet/data/v1.0/2018/28QDE/00/28QDE_00_20180103/28QDE_00_20180103_CLD_10m.tif',\n",
       "   'type': 'image/tiff; application=geotiff; profile=cloud-optimized',\n",
       "   'title': '28QDE_00_20180103_CLD_10m',\n",
       "   'eo:bands': [{'name': 'CLD',\n",
       "     'common_name': 'Cloud Mask',\n",
       "     'description': 'Cloud Mask'}]},\n",
       "  'SCL': {'href': 'https://radiantearth.blob.core.windows.net/mlhub/landcovernet/data/v1.0/2018/28QDE/00/28QDE_00_20180103/28QDE_00_20180103_SCL_10m.tif',\n",
       "   'type': 'image/tiff; application=geotiff; profile=cloud-optimized',\n",
       "   'title': '28QDE_00_20180103_SCL_10m',\n",
       "   'eo:bands': [{'name': 'SCL',\n",
       "     'common_name': 'Scene Classification Layer',\n",
       "     'description': 'Scene Classification Layer'}]}},\n",
       " 'bbox': [-15.871083915186572,\n",
       "  17.934727775534636,\n",
       "  -15.846799996243936,\n",
       "  17.957971086770065],\n",
       " 'stac_extensions': ['https://stac-extensions.github.io/eo/v1.0.0/schema.json'],\n",
       " 'collection': 'ref_landcovernet_v1_source'}"
      ]
     },
     "execution_count": 115,
     "metadata": {},
     "output_type": "execute_result"
    }
   ],
   "source": [
    "next(lcn_source_collection.get_all_items()).to_dict()"
   ]
  },
  {
   "cell_type": "code",
   "execution_count": 168,
   "id": "491b3ffb-3f97-4e2a-bc5b-c14333eb8186",
   "metadata": {},
   "outputs": [
    {
     "data": {
      "text/plain": [
       "'https://radiantearth.blob.core.windows.net/mlhub/landcovernet/data/v1.0/2018/28QDE/00/28QDE_00_20180103/28QDE_00_20180103_CLD_10m.tif'"
      ]
     },
     "execution_count": 168,
     "metadata": {},
     "output_type": "execute_result"
    }
   ],
   "source": [
    "next(lcn_source_collection.get_all_items()).get_assets()['CLD'].href"
   ]
  },
  {
   "cell_type": "code",
   "execution_count": 170,
   "id": "751e104c-79e4-4d08-be20-4a431ee50b17",
   "metadata": {},
   "outputs": [],
   "source": [
    "i=0\n",
    "while i<1000:\n",
    "    item = next(lcn_source_collection.get_all_items())\n",
    "    test_item_href = item.get_assets()['CLD'].href\n",
    "    test_src = rio.open(test_item_href)\n",
    "    cloud_cover = (test_src.read().sum() / (test_src.width * test_src.height)) * 100\n",
    "    if cloud_cover > 0:\n",
    "        print(f'Item {item.id} has {cloud_cover:.2f}% clouds')\n",
    "    i+=1"
   ]
  },
  {
   "cell_type": "code",
   "execution_count": 159,
   "id": "ee44da21-f642-4dab-bd05-b7965d1dd753",
   "metadata": {},
   "outputs": [],
   "source": [
    "test_item_href = item.get_assets()['CLD'].href"
   ]
  },
  {
   "cell_type": "code",
   "execution_count": 160,
   "id": "17647d2d-7ac8-4924-a1f5-ef6a9aa2239d",
   "metadata": {},
   "outputs": [],
   "source": [
    "test_src = rio.open(test_item_href)"
   ]
  },
  {
   "cell_type": "code",
   "execution_count": 164,
   "id": "ff2cf116-9b9f-402e-aae3-db99cb7de17c",
   "metadata": {},
   "outputs": [
    {
     "data": {
      "text/plain": [
       "{'driver': 'GTiff',\n",
       " 'dtype': 'uint8',\n",
       " 'nodata': 255.0,\n",
       " 'width': 256,\n",
       " 'height': 256,\n",
       " 'count': 1,\n",
       " 'crs': CRS.from_epsg(32628),\n",
       " 'transform': Affine(10.0, 0.0, 407760.0,\n",
       "        0.0, -10.0, 1985740.0)}"
      ]
     },
     "execution_count": 164,
     "metadata": {},
     "output_type": "execute_result"
    }
   ],
   "source": [
    "test_src.meta"
   ]
  },
  {
   "cell_type": "code",
   "execution_count": 161,
   "id": "e6e1bcad-bd6a-4681-97f3-525259075fa9",
   "metadata": {},
   "outputs": [
    {
     "data": {
      "text/plain": [
       "256"
      ]
     },
     "execution_count": 161,
     "metadata": {},
     "output_type": "execute_result"
    }
   ],
   "source": [
    "test_src.width"
   ]
  },
  {
   "cell_type": "code",
   "execution_count": 162,
   "id": "b65bb7b8-bad7-4740-87c9-a91453e1f70c",
   "metadata": {},
   "outputs": [
    {
     "data": {
      "text/plain": [
       "256"
      ]
     },
     "execution_count": 162,
     "metadata": {},
     "output_type": "execute_result"
    }
   ],
   "source": [
    "test_src.height"
   ]
  },
  {
   "cell_type": "code",
   "execution_count": 165,
   "id": "9d67afd6-7adf-4650-a046-d6e3080b99b2",
   "metadata": {},
   "outputs": [],
   "source": [
    "source_epsg = test_src.crs.to_epsg()"
   ]
  },
  {
   "cell_type": "code",
   "execution_count": 157,
   "id": "d95fa651-d881-4752-9593-08dddf8113e2",
   "metadata": {},
   "outputs": [
    {
     "data": {
      "text/plain": [
       "0.0"
      ]
     },
     "execution_count": 157,
     "metadata": {},
     "output_type": "execute_result"
    }
   ],
   "source": [
    "(test_src.read().sum() / (test_src.width * test_src.height)) * 100"
   ]
  },
  {
   "cell_type": "code",
   "execution_count": 163,
   "id": "e1f73cf1-8cca-4a28-9ce3-83c796c0beed",
   "metadata": {},
   "outputs": [
    {
     "data": {
      "image/png": "[encoded data removed]",
      "text/plain": [
       "<Figure size 432x288 with 1 Axes>"
      ]
     },
     "metadata": {
      "needs_background": "light"
     },
     "output_type": "display_data"
    },
    {
     "data": {
      "text/plain": [
       "<AxesSubplot:>"
      ]
     },
     "execution_count": 163,
     "metadata": {},
     "output_type": "execute_result"
    }
   ],
   "source": [
    "show(test_src)"
   ]
  },
  {
   "cell_type": "code",
   "execution_count": 173,
   "id": "6f0cba31-2234-4ae0-96f2-2c7584280ad9",
   "metadata": {},
   "outputs": [
    {
     "name": "stdout",
     "output_type": "stream",
     "text": [
      "CPU times: user 2.31 s, sys: 3.53 s, total: 5.84 s\n",
      "Wall time: 13.1 s\n"
     ]
    }
   ],
   "source": [
    "%%time\n",
    "lcn_source_items = list(lcn_source_collection.get_all_items())"
   ]
  },
  {
   "cell_type": "code",
   "execution_count": 182,
   "id": "b14d3f1e-35f1-4898-942b-1a8718776312",
   "metadata": {},
   "outputs": [],
   "source": [
    "@delayed\n",
    "def calculate_cloud_cover(item):\n",
    "    test_item_href = item.get_assets()['CLD'].href\n",
    "    test_src = rio.open(test_item_href)\n",
    "    cloud_cover = (test_src.read().sum() / (test_src.width * test_src.height)) * 100\n",
    "    eo_ext = EOExtension.ext(item)\n",
    "    eo_ext.cloud_cover = cloud_cover\n",
    "    return item"
   ]
  },
  {
   "cell_type": "code",
   "execution_count": null,
   "id": "c02288e0-7204-4adf-bf0a-36c53ebdc200",
   "metadata": {},
   "outputs": [],
   "source": [
    "scattered_items = client.scatter(lcn_source_items)\n",
    "scattered_items"
   ]
  },
  {
   "cell_type": "code",
   "execution_count": null,
   "id": "371ee75b-f626-4296-818a-c1bc23821158",
   "metadata": {},
   "outputs": [],
   "source": [
    "cloud_futures = client.submit(calculate_cloud_cover, scattered_items)"
   ]
  },
  {
   "cell_type": "code",
   "execution_count": 181,
   "id": "ba336520-341b-4772-a320-d66b5857eed0",
   "metadata": {},
   "outputs": [
    {
     "name": "stderr",
     "output_type": "stream",
     "text": [
      "/Users/kendallsmith/opt/anaconda3/envs/mlhub/lib/python3.9/site-packages/distributed/worker.py:4370: UserWarning: Large object of size 0.94 GiB detected in task graph: \n",
      "  (<Item id=ref_landcovernet_v1_source_38PKT_29_20181227>,)\n",
      "Consider scattering large objects ahead of time\n",
      "with client.scatter to reduce scheduler burden and \n",
      "keep data on workers\n",
      "\n",
      "    future = client.submit(func, big_data)    # bad\n",
      "\n",
      "    big_future = client.scatter(big_data)     # good\n",
      "    future = client.submit(func, big_future)  # good\n",
      "  warnings.warn(\n",
      "ERROR:root:Internal Python error in the inspect module.\n",
      "Below is the traceback from this internal error.\n",
      "\n",
      "\n",
      "KeyboardInterrupt\n",
      "\n"
     ]
    },
    {
     "name": "stdout",
     "output_type": "stream",
     "text": [
      "Error in callback <function install_repl_displayhook.<locals>.post_execute at 0x12f8d8c10> (for post_execute):\n"
     ]
    },
    {
     "name": "stderr",
     "output_type": "stream",
     "text": [
      "\n",
      "KeyboardInterrupt\n",
      "\n"
     ]
    }
   ],
   "source": [
    "cloud_results = []\n",
    "\n",
    "for item in lcn_source_items:\n",
    "    cc_item = delayed(calculate_cloud_cover)(item)\n",
    "    cloud_results.append(cc_item)\n",
    "    \n",
    "cc_item.compute()"
   ]
  },
  {
   "cell_type": "code",
   "execution_count": null,
   "id": "aacacda2-736f-49f3-855d-decf9729a6b1",
   "metadata": {},
   "outputs": [],
   "source": [
    "# results = []\n",
    "\n",
    "# for x in data:\n",
    "#     y = delayed(inc)(x)\n",
    "#     results.append(y)\n",
    "    \n",
    "# total = delayed(sum)(results)\n",
    "# print(\"Before computing:\", total)  # Let's see what type of thing total is\n",
    "# result = total.compute()\n",
    "# print(\"After computing :\", result)  # After it's computed"
   ]
  },
  {
   "cell_type": "code",
   "execution_count": 171,
   "id": "edfa437b-8e1d-4c73-8e11-5aa3574cdb67",
   "metadata": {},
   "outputs": [],
   "source": [
    "# %%time\n",
    "# source_data = stackstac.stack(\n",
    "#     items=ItemCollection(source_items),\n",
    "#     assets=['CLD'],\n",
    "#     dtype=\"float32\",\n",
    "#     resolution=10,\n",
    "#     epsg=source_epsg,\n",
    "# )"
   ]
  },
  {
   "cell_type": "code",
   "execution_count": null,
   "id": "3944db9a-dbbe-449f-a32b-4d8f8c397dcf",
   "metadata": {},
   "outputs": [],
   "source": []
  },
  {
   "cell_type": "code",
   "execution_count": null,
   "id": "be231187-120a-41cd-b475-f7a79377e14d",
   "metadata": {},
   "outputs": [],
   "source": []
  },
  {
   "cell_type": "code",
   "execution_count": 114,
   "id": "c97de3c9-b0ed-4707-8834-dac12a039a2d",
   "metadata": {},
   "outputs": [
    {
     "data": {
      "text/plain": [
       "<map at 0x12d9dcc40>"
      ]
     },
     "execution_count": 114,
     "metadata": {},
     "output_type": "execute_result"
    }
   ],
   "source": [
    "lcn_source_items = lcn_source_collection.get_all_items()\n",
    "lcn_source_items"
   ]
  },
  {
   "cell_type": "code",
   "execution_count": null,
   "id": "a3e84812-8cd5-4a61-ad4f-80e1e894f764",
   "metadata": {},
   "outputs": [],
   "source": []
  },
  {
   "cell_type": "code",
   "execution_count": 19,
   "id": "4640bed9-8b94-4a11-bc86-8253897a2486",
   "metadata": {
    "tags": []
   },
   "outputs": [
    {
     "data": {
      "text/plain": [
       "map"
      ]
     },
     "execution_count": 19,
     "metadata": {},
     "output_type": "execute_result"
    }
   ],
   "source": [
    "type(source_items)"
   ]
  },
  {
   "cell_type": "code",
   "execution_count": 25,
   "id": "70d4926f-9a27-44b1-aa05-77fbfc8885e0",
   "metadata": {},
   "outputs": [],
   "source": [
    "with open(source_collection_path, 'r') as in_file:\n",
    "    source_data = json.load(in_file)"
   ]
  },
  {
   "cell_type": "code",
   "execution_count": 26,
   "id": "859e2d48-5431-4a99-8514-f6193204ec48",
   "metadata": {},
   "outputs": [
    {
     "data": {
      "text/plain": [
       "dict_keys(['id', 'stac_version', 'description', 'links', 'extent', 'license', 'stac_extensions', 'providers', 'sci:doi', 'sci:citation', 'type'])"
      ]
     },
     "execution_count": 26,
     "metadata": {},
     "output_type": "execute_result"
    }
   ],
   "source": [
    "source_data.keys()"
   ]
  },
  {
   "cell_type": "code",
   "execution_count": 28,
   "id": "904fb271-536f-406f-8909-c4350b25ca68",
   "metadata": {},
   "outputs": [
    {
     "data": {
      "text/plain": [
       "153767"
      ]
     },
     "execution_count": 28,
     "metadata": {},
     "output_type": "execute_result"
    }
   ],
   "source": [
    "len(source_data['links'])"
   ]
  },
  {
   "cell_type": "code",
   "execution_count": 29,
   "id": "938c8f08-13f6-4b50-9dd6-155a177f59b6",
   "metadata": {},
   "outputs": [
    {
     "data": {
      "text/plain": [
       "{'href': 'https://radiantmlhub.blob.core.windows.net/stac/landcovernet-v1/landcovernet_v1_source/collection.json',\n",
       " 'rel': 'self'}"
      ]
     },
     "execution_count": 29,
     "metadata": {},
     "output_type": "execute_result"
    }
   ],
   "source": [
    "source_data['links'][0]"
   ]
  },
  {
   "cell_type": "code",
   "execution_count": 38,
   "id": "3b07bf9e-e542-4882-a6b3-de9cc074a950",
   "metadata": {},
   "outputs": [],
   "source": [
    "for link in source_data['links']:\n",
    "    link['href'] = link['href'].replace(MLHUB_STORAGE_ROOT, TMP_DIR)"
   ]
  },
  {
   "cell_type": "code",
   "execution_count": 39,
   "id": "e737d936-f0a9-48a3-ba80-eda6b9e48230",
   "metadata": {},
   "outputs": [
    {
     "data": {
      "text/plain": [
       "{'href': '/Users/kendallsmith/scalable-model-training/landcovernet_v1_source/collection.json',\n",
       " 'rel': 'self'}"
      ]
     },
     "execution_count": 39,
     "metadata": {},
     "output_type": "execute_result"
    }
   ],
   "source": [
    "source_data['links'][0]"
   ]
  },
  {
   "cell_type": "code",
   "execution_count": 103,
   "id": "97f839d0-f9eb-46b8-8764-3a362c09026b",
   "metadata": {},
   "outputs": [
    {
     "data": {
      "text/plain": [
       "'/Users/kendallsmith/scalable-model-training/landcovernet-v1/landcovernet_v1_source/collection.json'"
      ]
     },
     "execution_count": 103,
     "metadata": {},
     "output_type": "execute_result"
    }
   ],
   "source": [
    "lcn_source_collection.get_root_link().href"
   ]
  },
  {
   "cell_type": "code",
   "execution_count": 104,
   "id": "70fc4963-2c38-426e-a630-85ab39241b81",
   "metadata": {},
   "outputs": [
    {
     "data": {
      "text/plain": [
       "'/Users/kendallsmith/scalable-model-training/landcovernet-v1/landcovernet_v1_source/collection.json'"
      ]
     },
     "execution_count": 104,
     "metadata": {},
     "output_type": "execute_result"
    }
   ],
   "source": [
    "lcn_source_collection.get_self_href()"
   ]
  },
  {
   "cell_type": "code",
   "execution_count": 105,
   "id": "8cc34081-776f-4f4e-95db-728fa9bc6733",
   "metadata": {},
   "outputs": [
    {
     "data": {
      "text/plain": [
       "'/Users/kendallsmith/scalable-model-training/landcovernet-v1/landcovernet_v1_labels/collection.json'"
      ]
     },
     "execution_count": 105,
     "metadata": {},
     "output_type": "execute_result"
    }
   ],
   "source": [
    "lcn_labels_collection.get_self_href()"
   ]
  },
  {
   "cell_type": "code",
   "execution_count": 106,
   "id": "2ce0b15b-8096-4eb3-92a1-69823e6be4a9",
   "metadata": {},
   "outputs": [],
   "source": [
    "first_source_link = lcn_source_collection.get_item_links()[0]"
   ]
  },
  {
   "cell_type": "code",
   "execution_count": 107,
   "id": "7aae8b96-ccf0-4487-aef1-c55725e3546b",
   "metadata": {},
   "outputs": [
    {
     "data": {
      "text/plain": [
       "'./landcovernet_v1_source_28QDE_00_20180103/landcovernet_v1_source_28QDE_00_20180103.json'"
      ]
     },
     "execution_count": 107,
     "metadata": {},
     "output_type": "execute_result"
    }
   ],
   "source": [
    "relative_to_root = ps_utils.make_relative_href(\n",
    "    first_source_link.get_target_str(),\n",
    "    start_href=MLHUB_SOURCE_ROOT,\n",
    "    start_is_dir=True\n",
    ")\n",
    "\n",
    "relative_to_root"
   ]
  },
  {
   "cell_type": "code",
   "execution_count": 108,
   "id": "ce6e8c6d-6a26-47c8-b5dd-c84b209b27a0",
   "metadata": {},
   "outputs": [
    {
     "data": {
      "text/plain": [
       "'/Users/kendallsmith/scalable-model-training/landcovernet-v1/landcovernet_v1_source/landcovernet_v1_source_28QDE_00_20180103/landcovernet_v1_source_28QDE_00_20180103.json'"
      ]
     },
     "execution_count": 108,
     "metadata": {},
     "output_type": "execute_result"
    }
   ],
   "source": [
    "absolute_path = ps_utils.make_absolute_href(\n",
    "    relative_to_root,\n",
    "    start_href=lcn_source_collection.get_root_link().href\n",
    ")\n",
    "\n",
    "absolute_path"
   ]
  },
  {
   "cell_type": "code",
   "execution_count": 109,
   "id": "bf7ef8e3-865b-49b8-9d0f-66eb8d0e7c61",
   "metadata": {},
   "outputs": [
    {
     "data": {
      "text/plain": [
       "'./landcovernet_v1_source_28QDE_00_20180103/landcovernet_v1_source_28QDE_00_20180103.json'"
      ]
     },
     "execution_count": 109,
     "metadata": {},
     "output_type": "execute_result"
    }
   ],
   "source": [
    "relative_to_collection = ps_utils.make_relative_href(\n",
    "    absolute_path,\n",
    "    start_href=lcn_source_collection.get_self_href()\n",
    ")\n",
    "\n",
    "relative_to_collection"
   ]
  },
  {
   "cell_type": "code",
   "execution_count": null,
   "id": "b6e43f63-06fa-4abd-b13a-38bdafa8c830",
   "metadata": {},
   "outputs": [],
   "source": []
  }
 ],
 "metadata": {
  "kernelspec": {
   "display_name": "Python 3 (ipykernel)",
   "language": "python",
   "name": "python3"
  },
  "language_info": {
   "codemirror_mode": {
    "name": "ipython",
    "version": 3
   },
   "file_extension": ".py",
   "mimetype": "text/x-python",
   "name": "python",
   "nbconvert_exporter": "python",
   "pygments_lexer": "ipython3",
   "version": "3.9.7"
  }
 },
 "nbformat": 4,
 "nbformat_minor": 5
}
